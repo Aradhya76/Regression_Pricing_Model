{
  "cells": [
    {
      "cell_type": "markdown",
      "metadata": {},
      "source": [
        "# Pricing Model using Machine Learning (Colab-ready)\n",
        "\n",
        "This notebook reproduces the steps described in the internship report and demonstrates a classification and regression pipeline for pricing. The dataset is synthetically generated for demonstration purposes. Replace the synthetic data with your CSV if available.\n"
      ],
      "outputs": []
    },
    {
      "cell_type": "code",
      "metadata": {},
      "source": [
        "\n",
        "# If running on Colab, uncomment the following to install missing packages\n",
        "# !pip install -r /content/drive/MyDrive/path/to/requirements.txt\n",
        "print('Notebook ready.')\n"
      ],
      "outputs": []
    },
    {
      "cell_type": "code",
      "metadata": {},
      "source": [
        "\n",
        "import numpy as np\n",
        "import pandas as pd\n",
        "import matplotlib.pyplot as plt\n",
        "from sklearn.model_selection import train_test_split\n",
        "from sklearn.ensemble import RandomForestClassifier, RandomForestRegressor\n",
        "from sklearn.preprocessing import OneHotEncoder, StandardScaler\n",
        "from sklearn.compose import ColumnTransformer\n",
        "from sklearn.pipeline import Pipeline\n",
        "from sklearn.metrics import accuracy_score, classification_report, r2_score, mean_squared_error, mean_absolute_percentage_error\n",
        "from joblib import dump\n",
        "import os\n",
        "np.random.seed(42)\n",
        "print('Libraries loaded.')\n"
      ],
      "outputs": []
    },
    {
      "cell_type": "code",
      "metadata": {},
      "source": [
        "\n",
        "# ------------------ GENERATE_SYNTHETIC_DATA ------------------\n",
        "# We'll create a synthetic dataset representative of a pricing problem.\n",
        "# Columns: product_id, technical_score (0-100), market_segment (A/B/C),\n",
        "# competitor_price, cost, demand_index, seasonal_index, offer_status (0/1), price (continuous target)\n",
        "\n",
        "n = 2000\n",
        "product_id = np.arange(1, n+1)\n",
        "technical_score = np.clip(np.random.normal(60, 15, n), 10, 100)\n",
        "market_segment = np.random.choice(['A','B','C'], size=n, p=[0.4,0.35,0.25])\n",
        "competitor_price = np.random.normal(50000, 15000, n).clip(10000, 150000)\n",
        "cost = competitor_price * np.random.uniform(0.6, 0.9, n)\n",
        "demand_index = np.random.beta(2,5, n) * 100\n",
        "seasonal_index = 1 + 0.2 * np.sin(np.linspace(0, 6.28, n))  # mild seasonality\n",
        "\n",
        "# Simulate a \"recommended price\" influenced by features\n",
        "base_price = cost * np.random.uniform(1.05, 1.5, n)\n",
        "price = base_price * (1 + (technical_score-50)/400) * (1 + demand_index/500) * seasonal_index\n",
        "price = np.round(price, -2)  # round to 100s for realism\n",
        "\n",
        "# Offer status: whether the offer was accepted (1) or rejected (0) - synthetic rule + noise\n",
        "prob_accept = 1 / (1 + np.exp(-( (technical_score-50)/10 + (competitor_price-price)/20000 + (demand_index-20)/20 )))\n",
        "offer_status = (np.random.rand(n) < prob_accept).astype(int)\n",
        "\n",
        "df = pd.DataFrame({\n",
        "    'product_id': product_id,\n",
        "    'technical_score': technical_score,\n",
        "    'market_segment': market_segment,\n",
        "    'competitor_price': competitor_price.astype(int),\n",
        "    'cost': cost.astype(int),\n",
        "    'demand_index': demand_index,\n",
        "    'seasonal_index': seasonal_index,\n",
        "    'price': price.astype(int),\n",
        "    'offer_status': offer_status\n",
        "})\n",
        "\n",
        "df.head()\n"
      ],
      "outputs": []
    },
    {
      "cell_type": "code",
      "metadata": {},
      "source": [
        "\n",
        "# Basic EDA\n",
        "print('Shape:', df.shape)\n",
        "display(df.describe(include='all'))\n",
        "\n",
        "# Plot price distribution and offer status counts\n",
        "plt.figure(figsize=(8,4))\n",
        "plt.hist(df['price'], bins=40)\n",
        "plt.title('Price distribution (synthetic)')\n",
        "plt.xlabel('price')\n",
        "plt.ylabel('count')\n",
        "plt.show()\n",
        "\n",
        "plt.figure(figsize=(6,3))\n",
        "plt.bar(df['offer_status'].value_counts().index.astype(str), df['offer_status'].value_counts().values)\n",
        "plt.title('Offer status counts (0=rejected,1=accepted)')\n",
        "plt.show()\n"
      ],
      "outputs": []
    },
    {
      "cell_type": "code",
      "metadata": {},
      "source": [
        "\n",
        "# Preprocessing\n",
        "X = df.drop(columns=['product_id','offer_status','price'])\n",
        "y_clf = df['offer_status']\n",
        "y_reg = df['price']\n",
        "\n",
        "numeric_features = ['technical_score','competitor_price','cost','demand_index','seasonal_index']\n",
        "categorical_features = ['market_segment']\n",
        "\n",
        "numeric_transformer = Pipeline(steps=[('scaler', StandardScaler())])\n",
        "categorical_transformer = Pipeline(steps=[('onehot', OneHotEncoder(handle_unknown='ignore'))])\n",
        "\n",
        "preprocessor = ColumnTransformer(transformers=[\n",
        "    ('num', numeric_transformer, numeric_features),\n",
        "    ('cat', categorical_transformer, categorical_features)\n",
        "])\n",
        "\n",
        "# Classification pipeline\n",
        "clf_pipeline = Pipeline(steps=[('preprocessor', preprocessor),\n",
        "                               ('clf', RandomForestClassifier(n_estimators=100, random_state=42))])\n",
        "\n",
        "X_train, X_test, y_train, y_test = train_test_split(X, y_clf, test_size=0.2, random_state=42, stratify=y_clf)\n",
        "clf_pipeline.fit(X_train, y_train)\n",
        "y_pred = clf_pipeline.predict(X_test)\n",
        "print('Classification accuracy:', accuracy_score(y_test, y_pred))\n",
        "print('\\nClassification report:\\n', classification_report(y_test, y_pred))\n"
      ],
      "outputs": []
    },
    {
      "cell_type": "code",
      "metadata": {},
      "source": [
        "\n",
        "# Regression: predict price\n",
        "X_r = df.drop(columns=['product_id','price','offer_status'])\n",
        "y_r = df['price']\n",
        "\n",
        "Xr_train, Xr_test, yr_train, yr_test = train_test_split(X_r, y_r, test_size=0.2, random_state=42)\n",
        "reg_pipeline = Pipeline(steps=[('preprocessor', preprocessor),\n",
        "                               ('reg', RandomForestRegressor(n_estimators=150, random_state=42))])\n",
        "\n",
        "reg_pipeline.fit(Xr_train, yr_train)\n",
        "yr_pred = reg_pipeline.predict(Xr_test)\n",
        "print('Regression R2:', r2_score(yr_test, yr_pred))\n",
        "print('RMSE:', mean_squared_error(yr_test, yr_pred, squared=False))\n",
        "print('MAPE:', mean_absolute_percentage_error(yr_test, yr_pred))\n"
      ],
      "outputs": []
    },
    {
      "cell_type": "code",
      "metadata": {},
      "source": [
        "\n",
        "# Create artifacts folder and save models\n",
        "os.makedirs('artifacts', exist_ok=True)\n",
        "dump(clf_pipeline, 'artifacts/offer_status_classifier.joblib')\n",
        "dump(reg_pipeline, 'artifacts/price_regressor.joblib')\n",
        "df.sample(200).to_csv('artifacts/sample_synthetic_data.csv', index=False)\n",
        "print('Saved models and a sample CSV in artifacts/.')\n"
      ],
      "outputs": []
    },
    {
      "cell_type": "markdown",
      "metadata": {},
      "source": [
        "\n",
        "# If you have a real dataset:\n",
        "# Replace the synthetic generation block with:\n",
        "# df = pd.read_csv('path_to_your_file.csv')\n",
        "# and make sure the notebook's expected columns are present, or adapt the feature list accordingly.\n"
      ],
      "outputs": []
    }
  ],
  "metadata": {
    "kernelspec": {
      "display_name": "Python 3",
      "language": "python",
      "name": "python3"
    },
    "language_info": {
      "name": "python",
      "version": "3.10"
    }
  },
  "nbformat": 4,
  "nbformat_minor": 5
}